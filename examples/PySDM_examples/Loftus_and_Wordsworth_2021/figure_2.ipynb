{
 "cells": [
  {
   "cell_type": "code",
   "execution_count": null,
   "id": "d8f644e9",
   "metadata": {},
   "outputs": [],
   "source": [
    "import PySDM.products as PySDM_products\n",
    "from PySDM import Builder\n",
    "from PySDM import Formulae\n",
    "from Loftus_and_Wordsworth_2021.settings import Settings, EARTH_LIKE_CONSTS\n",
    "from Loftus_and_Wordsworth_2021.simulation import Simulation\n",
    "import matplotlib.pyplot as plt"
   ]
  },
  {
   "cell_type": "code",
   "execution_count": null,
   "id": "92a3a574",
   "metadata": {},
   "outputs": [],
   "source": [
    "#Have to add the following equations that are in the paper to the formulae section:\n",
    "#Will go under PySDM/physics/ wherever these categories are\n",
    "formulae= Formulae(\n",
    "          terminal_velocity=..., #eqn 8\n",
    "          drop_growth=..., #eqn 10\n",
    "          ventilation=..., #drag force/ gravitation eqns\n",
    "          particle_shape_and_density=..., #the following OblateSpheroid class\n",
    ")\n",
    "\n",
    "#For particle_shape and density, we will need to create a new class for liquid oblate spheroids\n",
    "#under PySDM/particle_shape_and_density.py\n",
    "#this needs to include eqn 2 about the equivalent radius, Reynolds number eqn (5)... \n",
    "#look at LiquidSphere class for reference\n",
    "class OblateSpheroid:\n",
    "    def __init__(self, a, b):\n",
    "        self.a = a  \n",
    "        self.b = b\n",
    "\n",
    "    def volume(self):\n",
    "        return \n",
    "    \n",
    "\n"
   ]
  },
  {
   "cell_type": "code",
   "execution_count": null,
   "id": "3249b65e",
   "metadata": {},
   "outputs": [],
   "source": [
    "#settings in this folder, some inputs are from the paper needed for the plot, like initial radius\n",
    "settings = Settings(        \n",
    "        updraft_velocity=0, # varied in the paper, add units\n",
    "        r_dry= 1e-16, #is this in the paper?\n",
    "        r_wet= initial_radius, #X axis of plot 2\n",
    "        formulae= formulae,\n",
    "        Planet= EARTH_LIKE_CONSTS,)"
   ]
  },
  {
   "cell_type": "code",
   "execution_count": null,
   "id": "530b1cba",
   "metadata": {},
   "outputs": [],
   "source": [
    "#set up simulation\n",
    "#Simulation is also in this folder\n",
    "#Need to change/add/edit the Parcel environment PySDM/parcel to take in new dz that uses the \n",
    "#updraft and the terminal velocity to have the parcel track the superdroplet\n",
    "simulation = Simulation(settings,..)\n",
    "output = simulation.run()\n",
    "\n",
    "#output currently has height, RH, radius, and time.. need others?\n",
    "plt.plot(output['time'], output['radius'])\n"
   ]
  }
 ],
 "metadata": {
  "language_info": {
   "name": "python"
  }
 },
 "nbformat": 4,
 "nbformat_minor": 5
}
