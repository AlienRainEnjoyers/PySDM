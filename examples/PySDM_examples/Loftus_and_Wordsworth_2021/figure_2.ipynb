{
 "cells": [
  {
   "cell_type": "code",
   "execution_count": 13,
   "id": "d8f644e9",
   "metadata": {},
   "outputs": [],
   "source": [
    "import PySDM.products as PySDM_products\n",
    "from PySDM import Builder\n",
    "from PySDM import Formulae\n",
    "from PySDM_examples.Lowe_et_al_2019.constants_def import LOWE_CONSTS\n",
    "\n",
    "from PySDM_examples.Loftus_and_Wordsworth_2021.settings import Settings, EARTH_LIKE_CONSTS\n",
    "from PySDM_examples.Loftus_and_Wordsworth_2021.simulation import Simulation\n",
    "import matplotlib.pyplot as plt"
   ]
  },
  {
   "cell_type": "code",
   "execution_count": 14,
   "id": "2fb6b5aa",
   "metadata": {},
   "outputs": [],
   "source": [
    "from PySDM.physics import terminal_velocity\n",
    "from PySDM.physics import drop_growth\n",
    "from PySDM.physics import ventilation\n",
    "from PySDM.physics.particle_shape_and_density.oblate_spheroid import OblateSpheroid"
   ]
  },
  {
   "cell_type": "code",
   "execution_count": 15,
   "id": "92a3a574",
   "metadata": {},
   "outputs": [
    {
     "ename": "TypeError",
     "evalue": "LofusEtAl2021() takes no arguments",
     "output_type": "error",
     "traceback": [
      "\u001b[31m---------------------------------------------------------------------------\u001b[39m",
      "\u001b[31mTypeError\u001b[39m                                 Traceback (most recent call last)",
      "\u001b[36mCell\u001b[39m\u001b[36m \u001b[39m\u001b[32mIn[15]\u001b[39m\u001b[32m, line 3\u001b[39m\n\u001b[32m      1\u001b[39m \u001b[38;5;66;03m#Have to add the following equations that are in the paper to the formulae section:\u001b[39;00m\n\u001b[32m      2\u001b[39m \u001b[38;5;66;03m#Will go under PySDM/physics/ wherever these categories are\u001b[39;00m\n\u001b[32m----> \u001b[39m\u001b[32m3\u001b[39m formulae = \u001b[43mFormulae\u001b[49m\u001b[43m(\u001b[49m\n\u001b[32m      4\u001b[39m \u001b[43m    \u001b[49m\u001b[43mterminal_velocity\u001b[49m\u001b[43m=\u001b[49m\u001b[33;43m\"\u001b[39;49m\u001b[33;43mLofusEtAl2021\u001b[39;49m\u001b[33;43m\"\u001b[39;49m\u001b[43m,\u001b[49m\u001b[43m \u001b[49m\u001b[38;5;66;43;03m#eqn 8\u001b[39;49;00m\n\u001b[32m      5\u001b[39m \u001b[43m    \u001b[49m\u001b[43mdrop_growth\u001b[49m\u001b[43m=\u001b[49m\u001b[33;43m\"\u001b[39;49m\u001b[33;43mRogersAndYau1996\u001b[39;49m\u001b[33;43m\"\u001b[39;49m\u001b[43m,\u001b[49m\u001b[43m \u001b[49m\u001b[38;5;66;43;03m#eqn 10\u001b[39;49;00m\n\u001b[32m      6\u001b[39m \u001b[43m    \u001b[49m\u001b[43mventilation\u001b[49m\u001b[43m=\u001b[49m\u001b[33;43m\"\u001b[39;49m\u001b[33;43mLofusEtAl2021\u001b[39;49m\u001b[33;43m\"\u001b[39;49m\u001b[43m,\u001b[49m\u001b[43m \u001b[49m\u001b[38;5;66;43;03m#drag force/ gravitation eqns\u001b[39;49;00m\n\u001b[32m      7\u001b[39m \u001b[43m    \u001b[49m\u001b[43mparticle_shape_and_density\u001b[49m\u001b[43m=\u001b[49m\u001b[33;43m\"\u001b[39;49m\u001b[33;43mLiquidSpheres\u001b[39;49m\u001b[33;43m\"\u001b[39;49m\u001b[43m,\u001b[49m\u001b[43m \u001b[49m\u001b[38;5;66;43;03m#the following OblateSpheroid class\u001b[39;49;00m\n\u001b[32m      8\u001b[39m \u001b[43m)\u001b[49m\n\u001b[32m     10\u001b[39m \u001b[38;5;66;03m#For particle_shape and density, we will need to create a new class for liquid oblate spheroids\u001b[39;00m\n\u001b[32m     11\u001b[39m \u001b[38;5;66;03m#under PySDM/particle_shape_and_density.py\u001b[39;00m\n\u001b[32m     12\u001b[39m \u001b[38;5;66;03m#this needs to include eqn 2 about the equivalent radius, Reynolds number eqn (5)... \u001b[39;00m\n\u001b[32m     13\u001b[39m \u001b[38;5;66;03m#look at LiquidSphere class for reference\u001b[39;00m\n",
      "\u001b[36mFile \u001b[39m\u001b[32m~/agh/PySDM/PySDM/formulae.py:149\u001b[39m, in \u001b[36mFormulae.__init__\u001b[39m\u001b[34m(self, constants, seed, fastmath, diffusion_coordinate, saturation_vapour_pressure, latent_heat_vapourisation, latent_heat_sublimation, hygroscopicity, drop_growth, surface_tension, diffusion_kinetics, diffusion_ice_kinetics, diffusion_ice_capacity, diffusion_thermics, ventilation, state_variable_triplet, particle_advection, hydrostatics, freezing_temperature_spectrum, heterogeneous_ice_nucleation_rate, fragmentation_function, isotope_equilibrium_fractionation_factors, isotope_kinetic_fractionation_factors, isotope_meteoric_water_line, isotope_ratio_evolution, isotope_diffusivity_ratios, isotope_relaxation_timescale, isotope_temperature_inference, optical_albedo, optical_depth, particle_shape_and_density, terminal_velocity, air_dynamic_viscosity, bulk_phase_partitioning, handle_all_breakups)\u001b[39m\n\u001b[32m    144\u001b[39m \u001b[38;5;66;03m# each `component` corresponds to one subdirectory of PySDM/physics\u001b[39;00m\n\u001b[32m    145\u001b[39m \u001b[38;5;28;01mfor\u001b[39;00m component \u001b[38;5;129;01min\u001b[39;00m \u001b[38;5;28mself\u001b[39m._components:\n\u001b[32m    146\u001b[39m     \u001b[38;5;28msetattr\u001b[39m(\n\u001b[32m    147\u001b[39m         \u001b[38;5;28mself\u001b[39m,\n\u001b[32m    148\u001b[39m         component,\n\u001b[32m--> \u001b[39m\u001b[32m149\u001b[39m         \u001b[43m_magick\u001b[49m\u001b[43m(\u001b[49m\n\u001b[32m    150\u001b[39m \u001b[43m            \u001b[49m\u001b[43mvalue\u001b[49m\u001b[43m=\u001b[49m\u001b[38;5;28;43mgetattr\u001b[39;49m\u001b[43m(\u001b[49m\u001b[38;5;28;43mself\u001b[39;49m\u001b[43m,\u001b[49m\u001b[43m \u001b[49m\u001b[43mcomponent\u001b[49m\u001b[43m)\u001b[49m\u001b[43m,\u001b[49m\n\u001b[32m    151\u001b[39m \u001b[43m            \u001b[49m\u001b[43mmodule\u001b[49m\u001b[43m=\u001b[49m\u001b[38;5;28;43mgetattr\u001b[39;49m\u001b[43m(\u001b[49m\u001b[43mphysics\u001b[49m\u001b[43m,\u001b[49m\u001b[43m \u001b[49m\u001b[43mcomponent\u001b[49m\u001b[43m)\u001b[49m\u001b[43m,\u001b[49m\n\u001b[32m    152\u001b[39m \u001b[43m            \u001b[49m\u001b[43mfastmath\u001b[49m\u001b[43m=\u001b[49m\u001b[43mfastmath\u001b[49m\u001b[43m,\u001b[49m\n\u001b[32m    153\u001b[39m \u001b[43m            \u001b[49m\u001b[43mconstants\u001b[49m\u001b[43m=\u001b[49m\u001b[43mconstants\u001b[49m\u001b[43m,\u001b[49m\n\u001b[32m    154\u001b[39m \u001b[43m            \u001b[49m\u001b[43mdimensional_analysis\u001b[49m\u001b[43m=\u001b[49m\u001b[43mdimensional_analysis\u001b[49m\u001b[43m,\u001b[49m\n\u001b[32m    155\u001b[39m \u001b[43m        \u001b[49m\u001b[43m)\u001b[49m,\n\u001b[32m    156\u001b[39m     )\n\u001b[32m    158\u001b[39m \u001b[38;5;66;03m# TODO #348\u001b[39;00m\n\u001b[32m    159\u001b[39m \u001b[38;5;28mself\u001b[39m.terminal_velocity_class = {\n\u001b[32m    160\u001b[39m     \u001b[33m\"\u001b[39m\u001b[33mGunnKinzer1949\u001b[39m\u001b[33m\"\u001b[39m: GunnKinzer1949,\n\u001b[32m    161\u001b[39m     \u001b[33m\"\u001b[39m\u001b[33mRogersYau\u001b[39m\u001b[33m\"\u001b[39m: RogersYau,\n\u001b[32m    162\u001b[39m     \u001b[33m\"\u001b[39m\u001b[33mTpDependent\u001b[39m\u001b[33m\"\u001b[39m: TpDependent,\n\u001b[32m    163\u001b[39m     \u001b[33m\"\u001b[39m\u001b[33mPowerSeries\u001b[39m\u001b[33m\"\u001b[39m: PowerSeries,\n\u001b[32m    164\u001b[39m }[terminal_velocity]\n",
      "\u001b[36mFile \u001b[39m\u001b[32m~/agh/PySDM/PySDM/formulae.py:381\u001b[39m, in \u001b[36m_magick\u001b[39m\u001b[34m(value, module, fastmath, constants, dimensional_analysis)\u001b[39m\n\u001b[32m    375\u001b[39m \u001b[38;5;129m@lru_cache\u001b[39m()\n\u001b[32m    376\u001b[39m \u001b[38;5;28;01mdef\u001b[39;00m\u001b[38;5;250m \u001b[39m\u001b[34m_magick\u001b[39m(value, module, fastmath, constants, dimensional_analysis):\n\u001b[32m    377\u001b[39m \u001b[38;5;250m    \u001b[39m\u001b[33;03m\"\"\"\u001b[39;00m\n\u001b[32m    378\u001b[39m \u001b[33;03m    boosts (`PySDM.formulae.Formulae._boost`) the selected physics logic\u001b[39;00m\n\u001b[32m    379\u001b[39m \u001b[33;03m    \"\"\"\u001b[39;00m\n\u001b[32m    380\u001b[39m     \u001b[38;5;28;01mreturn\u001b[39;00m _boost(\n\u001b[32m--> \u001b[39m\u001b[32m381\u001b[39m         \u001b[43m_pick\u001b[49m\u001b[43m(\u001b[49m\u001b[43mvalue\u001b[49m\u001b[43m,\u001b[49m\u001b[43m \u001b[49m\u001b[43m_choices\u001b[49m\u001b[43m(\u001b[49m\u001b[43mmodule\u001b[49m\u001b[43m)\u001b[49m\u001b[43m,\u001b[49m\u001b[43m \u001b[49m\u001b[43mconstants\u001b[49m\u001b[43m)\u001b[49m,\n\u001b[32m    382\u001b[39m         fastmath,\n\u001b[32m    383\u001b[39m         constants,\n\u001b[32m    384\u001b[39m         dimensional_analysis,\n\u001b[32m    385\u001b[39m     )\n",
      "\u001b[36mFile \u001b[39m\u001b[32m~/agh/PySDM/PySDM/formulae.py:342\u001b[39m, in \u001b[36m_pick\u001b[39m\u001b[34m(value, choices, constants)\u001b[39m\n\u001b[32m    340\u001b[39m \u001b[38;5;28;01mfor\u001b[39;00m name, \u001b[38;5;28mcls\u001b[39m \u001b[38;5;129;01min\u001b[39;00m choices.items():\n\u001b[32m    341\u001b[39m     \u001b[38;5;28;01mif\u001b[39;00m name == value:\n\u001b[32m--> \u001b[39m\u001b[32m342\u001b[39m         obj = \u001b[38;5;28;43mcls\u001b[39;49m\u001b[43m(\u001b[49m\u001b[43mconstants\u001b[49m\u001b[43m)\u001b[49m\n\u001b[32m    343\u001b[39m         \u001b[38;5;28;01mbreak\u001b[39;00m\n\u001b[32m    344\u001b[39m     name = value\n",
      "\u001b[31mTypeError\u001b[39m: LofusEtAl2021() takes no arguments"
     ]
    }
   ],
   "source": [
    "#Have to add the following equations that are in the paper to the formulae section:\n",
    "#Will go under PySDM/physics/ wherever these categories are\n",
    "formulae = Formulae(\n",
    "    terminal_velocity=terminal_velocity.LofusEtAl2021, #eqn 8\n",
    "    drop_growth=drop_growth.RogersAndYau1996, #eqn 10\n",
    "    ventilation=ventilation.LofusEtAl2021, #drag force/ gravitation eqns\n",
    "    particle_shape_and_density=OblateSpheroid, #the following OblateSpheroid class\n",
    ")\n",
    "\n",
    "#For particle_shape and density, we will need to create a new class for liquid oblate spheroids\n",
    "#under PySDM/particle_shape_and_density.py\n",
    "#this needs to include eqn 2 about the equivalent radius, Reynolds number eqn (5)... \n",
    "#look at LiquidSphere class for reference"
   ]
  },
  {
   "cell_type": "code",
   "execution_count": null,
   "id": "3249b65e",
   "metadata": {},
   "outputs": [],
   "source": [
    "#settings in this folder, some inputs are from the paper needed for the plot, like initial radius\n",
    "settings = Settings(        \n",
    "        updraft_velocity=0, # varied in the paper, add units\n",
    "        r_dry= 1e-16, #is this in the paper?\n",
    "        r_wet= 1e-1, #X axis of plot 2\n",
    "        formulae= formulae,\n",
    "        Planet= EARTH_LIKE_CONSTS,)"
   ]
  },
  {
   "cell_type": "code",
   "execution_count": null,
   "id": "530b1cba",
   "metadata": {},
   "outputs": [],
   "source": [
    "#set up simulation\n",
    "#Simulation is also in this folder\n",
    "#Need to change/add/edit the Parcel environment PySDM/parcel to take in new dz that uses the \n",
    "#updraft and the terminal velocity to have the parcel track the superdroplet\n",
    "simulation = Simulation(settings)\n",
    "output = simulation.run()\n",
    "\n",
    "#output currently has height, RH, radius, and time.. need others?\n",
    "plt.plot(output['time'], output['radius'])\n"
   ]
  }
 ],
 "metadata": {
  "kernelspec": {
   "display_name": ".venv",
   "language": "python",
   "name": "python3"
  },
  "language_info": {
   "codemirror_mode": {
    "name": "ipython",
    "version": 3
   },
   "file_extension": ".py",
   "mimetype": "text/x-python",
   "name": "python",
   "nbconvert_exporter": "python",
   "pygments_lexer": "ipython3",
   "version": "3.13.3"
  }
 },
 "nbformat": 4,
 "nbformat_minor": 5
}
