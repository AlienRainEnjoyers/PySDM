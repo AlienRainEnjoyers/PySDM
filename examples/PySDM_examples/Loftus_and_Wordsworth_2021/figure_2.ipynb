{
 "cells": [
  {
   "cell_type": "code",
   "execution_count": 1,
   "id": "d8f644e9",
   "metadata": {},
   "outputs": [
    {
     "name": "stderr",
     "output_type": "stream",
     "text": [
      "c:\\Users\\piotr\\Desktop\\PySDM\\.venv\\Lib\\site-packages\\tqdm_joblib\\__init__.py:4: TqdmExperimentalWarning: Using `tqdm.autonotebook.tqdm` in notebook mode. Use `tqdm.tqdm` instead to force console mode (e.g. in jupyter console)\n",
      "  from tqdm.autonotebook import tqdm\n"
     ]
    }
   ],
   "source": [
    "import os\n",
    "\n",
    "import PySDM.products as PySDM_products\n",
    "import numpy as np\n",
    "from numba import njit, jit\n",
    "\n",
    "from tqdm import tqdm\n",
    "from tqdm_joblib import tqdm_joblib\n",
    "from joblib import Parallel, delayed\n",
    "\n",
    "from PySDM import Builder\n",
    "from PySDM import Formulae\n",
    "from PySDM_examples.Lowe_et_al_2019.constants_def import LOWE_CONSTS\n",
    "\n",
    "from PySDM_examples.Loftus_and_Wordsworth_2021 import Settings\n",
    "from PySDM_examples.Loftus_and_Wordsworth_2021.planet import Planet,EarthLike, Earth, EarlyMars, Jupiter, Saturn, K2_18B\n",
    "from PySDM_examples.Loftus_and_Wordsworth_2021.parcel import AlienParcel\n",
    "from PySDM_examples.Loftus_and_Wordsworth_2021 import Simulation\n",
    "import matplotlib.pyplot as plt"
   ]
  },
  {
   "cell_type": "code",
   "execution_count": 2,
   "id": "2fb6b5aa",
   "metadata": {},
   "outputs": [],
   "source": [
    "from PySDM.physics import terminal_velocity\n",
    "from PySDM.physics import drop_growth\n",
    "from PySDM.physics import ventilation\n",
    "from PySDM.physics.particle_shape_and_density.oblate_spheroid import OblateSpheroid\n",
    "from PySDM.physics import si\n",
    "from scipy.optimize import fsolve\n"
   ]
  },
  {
   "cell_type": "code",
   "execution_count": 3,
   "id": "92a3a574",
   "metadata": {},
   "outputs": [],
   "source": [
    "formulae= Formulae(\n",
    "    # terminal_velocity=\"LofusEtAl2021\", #eqn 8\n",
    "    # drop_growth=\"RogersAndYau1996\", #eqn 10\n",
    "    # particle_shape_and_density=\"OblateSpheroid\",\n",
    "    ventilation=\"PruppacherAndRasmussen1979\", #drag force/ gravitation eqns\n",
    "    saturation_vapour_pressure=\"AugustRocheMagnus\",\n",
    "    diffusion_coordinate=\"WaterMassLogarithm\",\n",
    ")\n"
   ]
  },
  {
   "cell_type": "code",
   "execution_count": 4,
   "id": "41f0ed6d",
   "metadata": {},
   "outputs": [
    {
     "data": {
      "text/plain": [
       "300.0"
      ]
     },
     "execution_count": 4,
     "metadata": {},
     "output_type": "execute_result"
    }
   ],
   "source": [
    "new_Earth = EarthLike()\n",
    "new_Earth.T_STP"
   ]
  },
  {
   "cell_type": "code",
   "execution_count": 5,
   "id": "3249b65e",
   "metadata": {},
   "outputs": [],
   "source": [
    "# radius_array = np.logspace(-4.5, -2.5, 50) * si.m\n",
    "# RH_array = np.linspace(0.25, .99, 50)\n",
    "# output_matrix = np.full((len(RH_array), len(radius_array)), np.nan)\n",
    "# const = formulae.constants\n",
    "\n",
    "# def mix(dry,vap,ratio):\n",
    "#     return (dry + ratio * vap)/(1 + ratio)\n",
    "\n",
    "# def compute_plot():\n",
    "#     RH_reversed = RH_array[::-1]\n",
    "#     size_reversed = len(RH_reversed)\n",
    "\n",
    "#     for i in range(size_reversed):\n",
    "#         RH = RH_reversed[i]\n",
    "\n",
    "#         new_Earth.RH_zref = RH\n",
    "\n",
    "#         pvs = formulae.saturation_vapour_pressure.pvs_water(new_Earth.T_STP)\n",
    "#         initial_water_vapour_mixing_ratio = const.eps / (new_Earth.p_STP / new_Earth.RH_zref / pvs - 1\n",
    "#         )\n",
    "\n",
    "#         Rair = mix(const.Rd,const.Rv,initial_water_vapour_mixing_ratio)\n",
    "#         c_p = mix(const.c_pd,const.c_pv,initial_water_vapour_mixing_ratio)\n",
    "\n",
    "#         def f(x):\n",
    "#             return initial_water_vapour_mixing_ratio/(initial_water_vapour_mixing_ratio+ const.eps)*new_Earth.p_STP*(x/new_Earth.T_STP)**(c_p/Rair\n",
    "#                     ) - formulae.saturation_vapour_pressure.pvs_water(x)\n",
    "                \n",
    "#         tdews = (fsolve(f, [150,300]))\n",
    "#         Tcloud = np.max(tdews)\n",
    "#         Zcloud = (new_Earth.T_STP-Tcloud)*c_p/new_Earth.g_std\n",
    "#         thstd = formulae.trivia.th_std(new_Earth.p_STP, new_Earth.T_STP)\n",
    "\n",
    "#         pcloud = formulae.hydrostatics.p_of_z_assuming_const_th_and_initial_water_vapour_mixing_ratio(new_Earth.p_STP, \n",
    "#                 thstd, initial_water_vapour_mixing_ratio, Zcloud)\n",
    "\n",
    "\n",
    "#         np.testing.assert_approx_equal(\n",
    "#             actual=pcloud*(initial_water_vapour_mixing_ratio/(initial_water_vapour_mixing_ratio + const.eps))/\n",
    "#                 formulae.saturation_vapour_pressure.pvs_water(Tcloud),\n",
    "#             desired=1,\n",
    "#             significant=4\n",
    "#             )\n",
    "\n",
    "#         for j,r in enumerate(radius_array[::-1]):\n",
    "#             settings = Settings(\n",
    "#                         planet=new_Earth,\n",
    "#                         r_wet= r,\n",
    "#                         mass_of_dry_air= 1e5*si.kg,\n",
    "#                         coord= \"WaterMassLogarithm\",\n",
    "#                         initial_water_vapour_mixing_ratio= initial_water_vapour_mixing_ratio,\n",
    "#                         pcloud= pcloud,\n",
    "#                         Zcloud= Zcloud,\n",
    "#                         Tcloud= Tcloud,\n",
    "#                         formulae=formulae,\n",
    "#             )\n",
    "#             simulation = Simulation(settings)\n",
    "#             try:\n",
    "#                 output = simulation.run()\n",
    "#                 if output['z'][-1] > 0:\n",
    "#                     output_matrix[i, j] = np.nan\n",
    "#                     break\n",
    "#                 else:\n",
    "#                     output_matrix[i, j] = 1 - (output['r'][-1] /(r*1e6))\n",
    "#             except Exception as e:\n",
    "#                 break"
   ]
  },
  {
   "cell_type": "code",
   "execution_count": null,
   "id": "d3a8f4b9",
   "metadata": {},
   "outputs": [],
   "source": [
    "radius_array = np.logspace(-4.5, -2.5, 50) * si.m\n",
    "RH_array = np.linspace(0.25, .99, 50)\n",
    "output_matrix = np.full((len(RH_array), len(radius_array)), np.nan)\n",
    "const = formulae.constants\n",
    "\n",
    "@njit()\n",
    "def mix(dry,vap,ratio):\n",
    "    return (dry + ratio * vap)/(1 + ratio)\n",
    "\n",
    "def compute_one_RH(output_matrix, i, RH):\n",
    "    \"\"\"\n",
    "    Compute one row of the output_matrix for a given RH.\n",
    "    Returns a 1D numpy array of length len(radius_array).\n",
    "    \"\"\"\n",
    "    new_Earth.RH_zref = RH\n",
    "\n",
    "    pvs = formulae.saturation_vapour_pressure.pvs_water(new_Earth.T_STP)\n",
    "    initial_water_vapour_mixing_ratio = const.eps / (new_Earth.p_STP / new_Earth.RH_zref / pvs - 1\n",
    "    )\n",
    "\n",
    "    Rair = mix(const.Rd,const.Rv,initial_water_vapour_mixing_ratio)\n",
    "    c_p = mix(const.c_pd,const.c_pv,initial_water_vapour_mixing_ratio)\n",
    "\n",
    "    def f(x):\n",
    "        return initial_water_vapour_mixing_ratio/(initial_water_vapour_mixing_ratio+ const.eps)*new_Earth.p_STP*(x/new_Earth.T_STP)**(c_p/Rair\n",
    "                ) - formulae.saturation_vapour_pressure.pvs_water(x)\n",
    "            \n",
    "    tdews = (fsolve(f, [150,300]))\n",
    "    Tcloud = np.max(tdews)\n",
    "    Zcloud = (new_Earth.T_STP-Tcloud)*c_p/new_Earth.g_std\n",
    "    thstd = formulae.trivia.th_std(new_Earth.p_STP, new_Earth.T_STP)\n",
    "\n",
    "    pcloud = formulae.hydrostatics.p_of_z_assuming_const_th_and_initial_water_vapour_mixing_ratio(new_Earth.p_STP, \n",
    "            thstd, initial_water_vapour_mixing_ratio, Zcloud)\n",
    "\n",
    "\n",
    "    np.testing.assert_approx_equal(\n",
    "        actual=pcloud*(initial_water_vapour_mixing_ratio/(initial_water_vapour_mixing_ratio + const.eps))/\n",
    "            formulae.saturation_vapour_pressure.pvs_water(Tcloud),\n",
    "        desired=1,\n",
    "        significant=4\n",
    "        )\n",
    "\n",
    "    for j,r in enumerate(radius_array[::-1]):\n",
    "        settings = Settings(\n",
    "                    planet=new_Earth,\n",
    "                    r_wet= r,\n",
    "                    mass_of_dry_air= 1e5*si.kg,\n",
    "                    coord= \"WaterMassLogarithm\",\n",
    "                    initial_water_vapour_mixing_ratio= initial_water_vapour_mixing_ratio,\n",
    "                    pcloud= pcloud,\n",
    "                    Zcloud= Zcloud,\n",
    "                    Tcloud= Tcloud,\n",
    "                    formulae=formulae,\n",
    "        )\n",
    "        simulation = Simulation(settings)\n",
    "        try:\n",
    "            output = simulation.run()\n",
    "            if output['z'][-1] > 0:\n",
    "                output_matrix[i, j] = np.nan\n",
    "                break\n",
    "            else:\n",
    "                print(f\"ADDED! i={i}, j={j}, RH={RH}, r={r}\")\n",
    "                output_matrix[i, j] = 1 - (output['r'][-1] /(r*1e6))\n",
    "        except Exception as _:\n",
    "            break"
   ]
  },
  {
   "cell_type": "code",
   "execution_count": 28,
   "id": "4352de81",
   "metadata": {},
   "outputs": [
    {
     "name": "stderr",
     "output_type": "stream",
     "text": [
      "RH‐sweep:   0%|          | 0/50 [00:00<?, ?it/s]"
     ]
    },
    {
     "data": {
      "application/vnd.jupyter.widget-view+json": {
       "model_id": "c532d2b916df4eb384ad5d84722d9aca",
       "version_major": 2,
       "version_minor": 0
      },
      "text/plain": [
       "  0%|          | 0/50 [00:00<?, ?it/s]"
      ]
     },
     "metadata": {},
     "output_type": "display_data"
    },
    {
     "ename": "KeyboardInterrupt",
     "evalue": "",
     "output_type": "error",
     "traceback": [
      "\u001b[31m---------------------------------------------------------------------------\u001b[39m",
      "\u001b[31mKeyboardInterrupt\u001b[39m                         Traceback (most recent call last)",
      "\u001b[36mCell\u001b[39m\u001b[36m \u001b[39m\u001b[32mIn[28]\u001b[39m\u001b[32m, line 2\u001b[39m\n\u001b[32m      1\u001b[39m \u001b[38;5;28;01mwith\u001b[39;00m tqdm_joblib(tqdm(desc=\u001b[33m\"\u001b[39m\u001b[33mRH‐sweep\u001b[39m\u001b[33m\"\u001b[39m, total=\u001b[38;5;28mlen\u001b[39m(RH_array))) \u001b[38;5;28;01mas\u001b[39;00m progress:\n\u001b[32m----> \u001b[39m\u001b[32m2\u001b[39m     all_rows = \u001b[43mParallel\u001b[49m\u001b[43m(\u001b[49m\u001b[43mn_jobs\u001b[49m\u001b[43m=\u001b[49m\u001b[43mos\u001b[49m\u001b[43m.\u001b[49m\u001b[43mcpu_count\u001b[49m\u001b[43m(\u001b[49m\u001b[43m)\u001b[49m\u001b[43m)\u001b[49m\u001b[43m(\u001b[49m\n\u001b[32m      3\u001b[39m \u001b[43m        \u001b[49m\u001b[43mdelayed\u001b[49m\u001b[43m(\u001b[49m\u001b[43mcompute_one_RH\u001b[49m\u001b[43m)\u001b[49m\u001b[43m(\u001b[49m\u001b[43moutput_matrix\u001b[49m\u001b[43m,\u001b[49m\u001b[43m \u001b[49m\u001b[43mi\u001b[49m\u001b[43m,\u001b[49m\u001b[43m \u001b[49m\u001b[43mRH\u001b[49m\u001b[43m)\u001b[49m\u001b[43m \u001b[49m\u001b[38;5;28;43;01mfor\u001b[39;49;00m\u001b[43m \u001b[49m\u001b[43mi\u001b[49m\u001b[43m,\u001b[49m\u001b[43m \u001b[49m\u001b[43mRH\u001b[49m\u001b[43m \u001b[49m\u001b[38;5;129;43;01min\u001b[39;49;00m\u001b[43m \u001b[49m\u001b[38;5;28;43menumerate\u001b[39;49m\u001b[43m(\u001b[49m\u001b[43mRH_array\u001b[49m\u001b[43m[\u001b[49m\u001b[43m:\u001b[49m\u001b[43m:\u001b[49m\u001b[43m-\u001b[49m\u001b[32;43m1\u001b[39;49m\u001b[43m]\u001b[49m\u001b[43m)\u001b[49m\n\u001b[32m      4\u001b[39m \u001b[43m    \u001b[49m\u001b[43m)\u001b[49m\n",
      "\u001b[36mFile \u001b[39m\u001b[32mc:\\Users\\piotr\\Desktop\\PySDM\\.venv\\Lib\\site-packages\\joblib\\parallel.py:2072\u001b[39m, in \u001b[36mParallel.__call__\u001b[39m\u001b[34m(self, iterable)\u001b[39m\n\u001b[32m   2066\u001b[39m \u001b[38;5;66;03m# The first item from the output is blank, but it makes the interpreter\u001b[39;00m\n\u001b[32m   2067\u001b[39m \u001b[38;5;66;03m# progress until it enters the Try/Except block of the generator and\u001b[39;00m\n\u001b[32m   2068\u001b[39m \u001b[38;5;66;03m# reaches the first `yield` statement. This starts the asynchronous\u001b[39;00m\n\u001b[32m   2069\u001b[39m \u001b[38;5;66;03m# dispatch of the tasks to the workers.\u001b[39;00m\n\u001b[32m   2070\u001b[39m \u001b[38;5;28mnext\u001b[39m(output)\n\u001b[32m-> \u001b[39m\u001b[32m2072\u001b[39m \u001b[38;5;28;01mreturn\u001b[39;00m output \u001b[38;5;28;01mif\u001b[39;00m \u001b[38;5;28mself\u001b[39m.return_generator \u001b[38;5;28;01melse\u001b[39;00m \u001b[38;5;28;43mlist\u001b[39;49m\u001b[43m(\u001b[49m\u001b[43moutput\u001b[49m\u001b[43m)\u001b[49m\n",
      "\u001b[36mFile \u001b[39m\u001b[32mc:\\Users\\piotr\\Desktop\\PySDM\\.venv\\Lib\\site-packages\\joblib\\parallel.py:1682\u001b[39m, in \u001b[36mParallel._get_outputs\u001b[39m\u001b[34m(self, iterator, pre_dispatch)\u001b[39m\n\u001b[32m   1679\u001b[39m     \u001b[38;5;28;01myield\u001b[39;00m\n\u001b[32m   1681\u001b[39m     \u001b[38;5;28;01mwith\u001b[39;00m \u001b[38;5;28mself\u001b[39m._backend.retrieval_context():\n\u001b[32m-> \u001b[39m\u001b[32m1682\u001b[39m         \u001b[38;5;28;01myield from\u001b[39;00m \u001b[38;5;28mself\u001b[39m._retrieve()\n\u001b[32m   1684\u001b[39m \u001b[38;5;28;01mexcept\u001b[39;00m \u001b[38;5;167;01mGeneratorExit\u001b[39;00m:\n\u001b[32m   1685\u001b[39m     \u001b[38;5;66;03m# The generator has been garbage collected before being fully\u001b[39;00m\n\u001b[32m   1686\u001b[39m     \u001b[38;5;66;03m# consumed. This aborts the remaining tasks if possible and warn\u001b[39;00m\n\u001b[32m   1687\u001b[39m     \u001b[38;5;66;03m# the user if necessary.\u001b[39;00m\n\u001b[32m   1688\u001b[39m     \u001b[38;5;28mself\u001b[39m._exception = \u001b[38;5;28;01mTrue\u001b[39;00m\n",
      "\u001b[36mFile \u001b[39m\u001b[32mc:\\Users\\piotr\\Desktop\\PySDM\\.venv\\Lib\\site-packages\\joblib\\parallel.py:1800\u001b[39m, in \u001b[36mParallel._retrieve\u001b[39m\u001b[34m(self)\u001b[39m\n\u001b[32m   1789\u001b[39m \u001b[38;5;28;01mif\u001b[39;00m \u001b[38;5;28mself\u001b[39m.return_ordered:\n\u001b[32m   1790\u001b[39m     \u001b[38;5;66;03m# Case ordered: wait for completion (or error) of the next job\u001b[39;00m\n\u001b[32m   1791\u001b[39m     \u001b[38;5;66;03m# that have been dispatched and not retrieved yet. If no job\u001b[39;00m\n\u001b[32m   (...)\u001b[39m\u001b[32m   1795\u001b[39m     \u001b[38;5;66;03m# control only have to be done on the amount of time the next\u001b[39;00m\n\u001b[32m   1796\u001b[39m     \u001b[38;5;66;03m# dispatched job is pending.\u001b[39;00m\n\u001b[32m   1797\u001b[39m     \u001b[38;5;28;01mif\u001b[39;00m (nb_jobs == \u001b[32m0\u001b[39m) \u001b[38;5;129;01mor\u001b[39;00m (\n\u001b[32m   1798\u001b[39m         \u001b[38;5;28mself\u001b[39m._jobs[\u001b[32m0\u001b[39m].get_status(timeout=\u001b[38;5;28mself\u001b[39m.timeout) == TASK_PENDING\n\u001b[32m   1799\u001b[39m     ):\n\u001b[32m-> \u001b[39m\u001b[32m1800\u001b[39m         \u001b[43mtime\u001b[49m\u001b[43m.\u001b[49m\u001b[43msleep\u001b[49m\u001b[43m(\u001b[49m\u001b[32;43m0.01\u001b[39;49m\u001b[43m)\u001b[49m\n\u001b[32m   1801\u001b[39m         \u001b[38;5;28;01mcontinue\u001b[39;00m\n\u001b[32m   1803\u001b[39m \u001b[38;5;28;01melif\u001b[39;00m nb_jobs == \u001b[32m0\u001b[39m:\n\u001b[32m   1804\u001b[39m     \u001b[38;5;66;03m# Case unordered: jobs are added to the list of jobs to\u001b[39;00m\n\u001b[32m   1805\u001b[39m     \u001b[38;5;66;03m# retrieve `self._jobs` only once completed or in error, which\u001b[39;00m\n\u001b[32m   (...)\u001b[39m\u001b[32m   1811\u001b[39m     \u001b[38;5;66;03m# timeouts before any other dispatched job has completed and\u001b[39;00m\n\u001b[32m   1812\u001b[39m     \u001b[38;5;66;03m# been added to `self._jobs` to be retrieved.\u001b[39;00m\n",
      "\u001b[31mKeyboardInterrupt\u001b[39m: "
     ]
    }
   ],
   "source": [
    "with tqdm_joblib(tqdm(desc=\"RH‐sweep\", total=len(RH_array))) as progress:\n",
    "    all_rows = Parallel(n_jobs=os.cpu_count())(\n",
    "        delayed(compute_one_RH)(output_matrix, i, RH) for i, RH in enumerate(RH_array[::-1])\n",
    "    )"
   ]
  },
  {
   "cell_type": "code",
   "execution_count": 27,
   "id": "8e6027d8",
   "metadata": {},
   "outputs": [
    {
     "name": "stderr",
     "output_type": "stream",
     "text": [
      "C:\\Users\\piotr\\AppData\\Local\\Temp\\ipykernel_15956\\3000932436.py:7: UserWarning: The following kwargs were not used by contour: 'aspect', 'interpolation'\n",
      "  h = ax[1].contourf(\n",
      "C:\\Users\\piotr\\AppData\\Local\\Temp\\ipykernel_15956\\3000932436.py:24: UserWarning: The following kwargs were not used by contour: 'label'\n",
      "  ax[1].contour(radius_array,RH_array[::-1],output_matrix[:,::-1], levels=contour_levels, colors=\"red\", linewidths=1.5,label=\"10% mass evaporated\")\n",
      "C:\\Users\\piotr\\AppData\\Local\\Temp\\ipykernel_15956\\3000932436.py:25: UserWarning: No artists with labels found to put in legend.  Note that artists whose label start with an underscore are ignored when legend() is called with no argument.\n",
      "  ax[1].legend()\n"
     ]
    },
    {
     "data": {
      "image/png": "[encoded data removed]",
      "text/plain": [
       "<Figure size 600x600 with 3 Axes>"
      ]
     },
     "metadata": {},
     "output_type": "display_data"
    }
   ],
   "source": [
    "row_data = output_matrix[18, ::-1]  # Reverse the row for plotting\n",
    "fig,ax = plt.subplots(2, 1, figsize=(6, 6),sharex=True,gridspec_kw={\"height_ratios\": [1, 3]},constrained_layout=True)\n",
    "ax[0].plot(radius_array,row_data, label=f\"Surface RH = {RH_array[-18]:.2f} %\")\n",
    "ax[0].set_ylabel(\"Mass evaporated (%)\")\n",
    "ax[0].legend()\n",
    "\n",
    "h = ax[1].contourf(\n",
    "    radius_array,RH_array[::-1],\n",
    "    output_matrix[:,::-1],  \n",
    "    cmap=\"gray_r\",          \n",
    "    levels =np.linspace(0, 1, 100),  \n",
    "    aspect=\"auto\",       \n",
    "    interpolation=\"bilinear\",  \n",
    ")\n",
    "ax[1].set_xscale(\"log\")  \n",
    "\n",
    "# Add labels\n",
    "ax[1].set_xlabel(\"Radius (µm)\")\n",
    "ax[1].set_ylabel(\"Surface RH (%)\")\n",
    "\n",
    "cbar = fig.colorbar(h, ax=ax, shrink=0.4)\n",
    "cbar.set_label(\"fraction Mass evaporated\")\n",
    "contour_levels = [0.1]  # Define the level for the contour\n",
    "ax[1].contour(radius_array,RH_array[::-1],output_matrix[:,::-1], levels=contour_levels, colors=\"red\", linewidths=1.5,label=\"10% mass evaporated\")\n",
    "ax[1].legend()\n",
    "plt.show()"
   ]
  },
  {
   "cell_type": "code",
   "execution_count": 50,
   "id": "369fa24a",
   "metadata": {},
   "outputs": [
    {
     "ename": "NameError",
     "evalue": "name 'output' is not defined",
     "output_type": "error",
     "traceback": [
      "\u001b[31m---------------------------------------------------------------------------\u001b[39m",
      "\u001b[31mNameError\u001b[39m                                 Traceback (most recent call last)",
      "\u001b[36mCell\u001b[39m\u001b[36m \u001b[39m\u001b[32mIn[50]\u001b[39m\u001b[32m, line 2\u001b[39m\n\u001b[32m      1\u001b[39m fig,axs = plt.subplots(\u001b[32m1\u001b[39m, \u001b[32m3\u001b[39m, figsize=(\u001b[32m10\u001b[39m, \u001b[32m8\u001b[39m),sharey=\u001b[38;5;28;01mTrue\u001b[39;00m)\n\u001b[32m----> \u001b[39m\u001b[32m2\u001b[39m axs[\u001b[32m0\u001b[39m].plot(\u001b[43moutput\u001b[49m[\u001b[33m\"\u001b[39m\u001b[33mr\u001b[39m\u001b[33m\"\u001b[39m], output[\u001b[33m\"\u001b[39m\u001b[33mz\u001b[39m\u001b[33m\"\u001b[39m], label=\u001b[33m\"\u001b[39m\u001b[33mRadius\u001b[39m\u001b[33m\"\u001b[39m)\n\u001b[32m      3\u001b[39m axs[\u001b[32m0\u001b[39m].set_ylabel(\u001b[33m\"\u001b[39m\u001b[33mHeight (m)\u001b[39m\u001b[33m\"\u001b[39m)\n\u001b[32m      4\u001b[39m axs[\u001b[32m0\u001b[39m].set_xlabel(\u001b[33m\"\u001b[39m\u001b[33mRadius (um)\u001b[39m\u001b[33m\"\u001b[39m)\n",
      "\u001b[31mNameError\u001b[39m: name 'output' is not defined"
     ]
    },
    {
     "data": {
      "image/png": "[encoded data removed]",
      "text/plain": [
       "<Figure size 1000x800 with 3 Axes>"
      ]
     },
     "metadata": {},
     "output_type": "display_data"
    }
   ],
   "source": [
    "fig,axs = plt.subplots(1, 3, figsize=(10, 8),sharey=True)\n",
    "axs[0].plot(output[\"r\"], output[\"z\"], label=\"Radius\")\n",
    "axs[0].set_ylabel(\"Height (m)\")\n",
    "axs[0].set_xlabel(\"Radius (um)\")\n",
    "axs[0].legend()\n",
    "axs[1].plot(output[\"S\"], output[\"z\"], label=\"Supersaturation\")\n",
    "axs[1].set_xlabel(\"Supersaturation\")\n",
    "axs[1].set_ylabel(\"Height (m)\")\n",
    "axs[1].legend()\n",
    "axs[2].plot(output[\"t\"], output[\"z\"], label=\"Height\")\n",
    "axs[2].set_ylabel(\"Height (m)\")\n",
    "axs[2].set_xlabel(\"Time (s)\")\n",
    "axs[2].legend()\n",
    "plt.tight_layout()"
   ]
  }
 ],
 "metadata": {
  "kernelspec": {
   "display_name": ".venv",
   "language": "python",
   "name": "python3"
  },
  "language_info": {
   "codemirror_mode": {
    "name": "ipython",
    "version": 3
   },
   "file_extension": ".py",
   "mimetype": "text/x-python",
   "name": "python",
   "nbconvert_exporter": "python",
   "pygments_lexer": "ipython3",
   "version": "3.13.2"
  }
 },
 "nbformat": 4,
 "nbformat_minor": 5
}
